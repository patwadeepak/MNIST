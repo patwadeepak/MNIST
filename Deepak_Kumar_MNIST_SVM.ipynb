{
 "cells": [
  {
   "cell_type": "code",
   "execution_count": 1,
   "metadata": {
    "ExecuteTime": {
     "end_time": "2019-04-13T11:24:20.215165Z",
     "start_time": "2019-04-13T11:24:20.211201Z"
    }
   },
   "outputs": [],
   "source": [
    "# Ignore Warnings\n",
    "import warnings\n",
    "warnings.filterwarnings('ignore')"
   ]
  },
  {
   "cell_type": "code",
   "execution_count": 2,
   "metadata": {
    "ExecuteTime": {
     "end_time": "2019-04-13T11:24:22.120094Z",
     "start_time": "2019-04-13T11:24:20.216162Z"
    }
   },
   "outputs": [],
   "source": [
    "# Importing Libraries\n",
    "import numpy as np\n",
    "import scipy as sp\n",
    "import pandas as pd\n",
    "import matplotlib.pyplot as plt\n",
    "import math\n",
    "from sklearn.svm import SVC\n",
    "from sklearn.model_selection import train_test_split\n",
    "from sklearn import metrics\n",
    "from sklearn.preprocessing import MinMaxScaler\n",
    "from sklearn.metrics import confusion_matrix\n",
    "from sklearn.model_selection import StratifiedKFold\n",
    "from sklearn.model_selection import cross_val_score\n",
    "from sklearn.model_selection import GridSearchCV\n",
    "from skimage import feature\n",
    "import seaborn as sns\n",
    "%matplotlib inline"
   ]
  },
  {
   "cell_type": "code",
   "execution_count": 3,
   "metadata": {
    "ExecuteTime": {
     "end_time": "2019-04-13T11:24:33.648248Z",
     "start_time": "2019-04-13T11:24:22.121066Z"
    }
   },
   "outputs": [],
   "source": [
    "# Reading the mnist train and test in pandas dataframe\n",
    "df_train = pd.read_csv('train.csv')\n",
    "df_test = pd.read_csv('test.csv')"
   ]
  },
  {
   "cell_type": "code",
   "execution_count": 4,
   "metadata": {
    "ExecuteTime": {
     "end_time": "2019-04-13T11:24:33.655207Z",
     "start_time": "2019-04-13T11:24:33.649223Z"
    }
   },
   "outputs": [
    {
     "data": {
      "text/plain": [
       "Index(['label', 'pixel0', 'pixel1', 'pixel2', 'pixel3', 'pixel4', 'pixel5',\n",
       "       'pixel6', 'pixel7', 'pixel8',\n",
       "       ...\n",
       "       'pixel774', 'pixel775', 'pixel776', 'pixel777', 'pixel778', 'pixel779',\n",
       "       'pixel780', 'pixel781', 'pixel782', 'pixel783'],\n",
       "      dtype='object', length=785)"
      ]
     },
     "execution_count": 4,
     "metadata": {},
     "output_type": "execute_result"
    }
   ],
   "source": [
    "df_train.columns"
   ]
  },
  {
   "cell_type": "code",
   "execution_count": 5,
   "metadata": {
    "ExecuteTime": {
     "end_time": "2019-04-13T11:24:33.732001Z",
     "start_time": "2019-04-13T11:24:33.657202Z"
    }
   },
   "outputs": [
    {
     "data": {
      "text/plain": [
       "Index(['pixel0', 'pixel1', 'pixel2', 'pixel3', 'pixel4', 'pixel5', 'pixel6',\n",
       "       'pixel7', 'pixel8', 'pixel9',\n",
       "       ...\n",
       "       'pixel774', 'pixel775', 'pixel776', 'pixel777', 'pixel778', 'pixel779',\n",
       "       'pixel780', 'pixel781', 'pixel782', 'pixel783'],\n",
       "      dtype='object', length=784)"
      ]
     },
     "execution_count": 5,
     "metadata": {},
     "output_type": "execute_result"
    }
   ],
   "source": [
    "df_test.columns"
   ]
  },
  {
   "cell_type": "markdown",
   "metadata": {},
   "source": [
    "OK, So the train file has label column which is the target for us and all other 784 columns are just pixels from left to right and stacked horizontally.\n",
    "\n",
    "As expected, test file does not have a label here."
   ]
  },
  {
   "cell_type": "code",
   "execution_count": 6,
   "metadata": {
    "ExecuteTime": {
     "end_time": "2019-04-13T11:24:33.888583Z",
     "start_time": "2019-04-13T11:24:33.732999Z"
    }
   },
   "outputs": [],
   "source": [
    "# Separating train dataset into y and X\n",
    "\n",
    "df_train_label = df_train.pop('label')\n",
    "df_train_X = df_train"
   ]
  },
  {
   "cell_type": "code",
   "execution_count": 7,
   "metadata": {
    "ExecuteTime": {
     "end_time": "2019-04-13T11:24:33.892573Z",
     "start_time": "2019-04-13T11:24:33.889607Z"
    }
   },
   "outputs": [],
   "source": [
    "X_test = df_test"
   ]
  },
  {
   "cell_type": "code",
   "execution_count": 8,
   "metadata": {
    "ExecuteTime": {
     "end_time": "2019-04-13T11:24:33.966402Z",
     "start_time": "2019-04-13T11:24:33.893570Z"
    }
   },
   "outputs": [
    {
     "data": {
      "text/plain": [
       "1    4684\n",
       "7    4401\n",
       "3    4351\n",
       "9    4188\n",
       "2    4177\n",
       "6    4137\n",
       "0    4132\n",
       "4    4072\n",
       "8    4063\n",
       "5    3795\n",
       "Name: label, dtype: int64"
      ]
     },
     "execution_count": 8,
     "metadata": {},
     "output_type": "execute_result"
    }
   ],
   "source": [
    "df_train_label.value_counts()"
   ]
  },
  {
   "cell_type": "code",
   "execution_count": 9,
   "metadata": {
    "ExecuteTime": {
     "end_time": "2019-04-13T11:24:34.199774Z",
     "start_time": "2019-04-13T11:24:33.967372Z"
    }
   },
   "outputs": [],
   "source": [
    "# As advised I am selecting only 12.5% i.e 5250 of samples from original 42000\n",
    "# random_state = 101 is used for reproducibility\n",
    "# stratify=y_train will keep the equal samples of all digits.\n",
    "\n",
    "X_train, X_valid, y_train, y_valid = train_test_split(df_train_X, df_train_label, \n",
    "                                                      test_size=0.875, \n",
    "                                                      random_state=42, \n",
    "                                                      stratify=df_train_label)"
   ]
  },
  {
   "cell_type": "code",
   "execution_count": 10,
   "metadata": {
    "ExecuteTime": {
     "end_time": "2019-04-13T11:24:34.205735Z",
     "start_time": "2019-04-13T11:24:34.200748Z"
    }
   },
   "outputs": [
    {
     "data": {
      "text/plain": [
       "1    586\n",
       "7    550\n",
       "3    544\n",
       "9    524\n",
       "2    522\n",
       "6    517\n",
       "0    516\n",
       "4    509\n",
       "8    508\n",
       "5    474\n",
       "Name: label, dtype: int64"
      ]
     },
     "execution_count": 10,
     "metadata": {},
     "output_type": "execute_result"
    }
   ],
   "source": [
    "# Check if we got equal digits in samples\n",
    "y_train.value_counts()"
   ]
  },
  {
   "cell_type": "markdown",
   "metadata": {},
   "source": [
    "We did not get equal samples of all the digits because stratify maintains the precentage of samples in actual dataset. Our actual dataset also has highest samples for 1 and lowest samples for 5. Rest of the digits are also in same order which is maintained in out sample dataset of 5250 samples.\n",
    "\n",
    "This gives us an honest sample which is very likely to represent our model if built using all samples."
   ]
  },
  {
   "cell_type": "code",
   "execution_count": 11,
   "metadata": {
    "ExecuteTime": {
     "end_time": "2019-04-13T11:24:34.280534Z",
     "start_time": "2019-04-13T11:24:34.206731Z"
    }
   },
   "outputs": [
    {
     "data": {
      "text/plain": [
       "(5250, 784)"
      ]
     },
     "execution_count": 11,
     "metadata": {},
     "output_type": "execute_result"
    }
   ],
   "source": [
    "X_train.shape"
   ]
  },
  {
   "cell_type": "code",
   "execution_count": 12,
   "metadata": {
    "ExecuteTime": {
     "end_time": "2019-04-13T11:24:34.355334Z",
     "start_time": "2019-04-13T11:24:34.281532Z"
    }
   },
   "outputs": [
    {
     "data": {
      "text/html": [
       "<div>\n",
       "<style scoped>\n",
       "    .dataframe tbody tr th:only-of-type {\n",
       "        vertical-align: middle;\n",
       "    }\n",
       "\n",
       "    .dataframe tbody tr th {\n",
       "        vertical-align: top;\n",
       "    }\n",
       "\n",
       "    .dataframe thead th {\n",
       "        text-align: right;\n",
       "    }\n",
       "</style>\n",
       "<table border=\"1\" class=\"dataframe\">\n",
       "  <thead>\n",
       "    <tr style=\"text-align: right;\">\n",
       "      <th></th>\n",
       "      <th>pixel0</th>\n",
       "      <th>pixel1</th>\n",
       "      <th>pixel2</th>\n",
       "      <th>pixel3</th>\n",
       "      <th>pixel4</th>\n",
       "      <th>pixel5</th>\n",
       "      <th>pixel6</th>\n",
       "      <th>pixel7</th>\n",
       "      <th>pixel8</th>\n",
       "      <th>pixel9</th>\n",
       "      <th>...</th>\n",
       "      <th>pixel774</th>\n",
       "      <th>pixel775</th>\n",
       "      <th>pixel776</th>\n",
       "      <th>pixel777</th>\n",
       "      <th>pixel778</th>\n",
       "      <th>pixel779</th>\n",
       "      <th>pixel780</th>\n",
       "      <th>pixel781</th>\n",
       "      <th>pixel782</th>\n",
       "      <th>pixel783</th>\n",
       "    </tr>\n",
       "  </thead>\n",
       "  <tbody>\n",
       "    <tr>\n",
       "      <th>38997</th>\n",
       "      <td>0</td>\n",
       "      <td>0</td>\n",
       "      <td>0</td>\n",
       "      <td>0</td>\n",
       "      <td>0</td>\n",
       "      <td>0</td>\n",
       "      <td>0</td>\n",
       "      <td>0</td>\n",
       "      <td>0</td>\n",
       "      <td>0</td>\n",
       "      <td>...</td>\n",
       "      <td>0</td>\n",
       "      <td>0</td>\n",
       "      <td>0</td>\n",
       "      <td>0</td>\n",
       "      <td>0</td>\n",
       "      <td>0</td>\n",
       "      <td>0</td>\n",
       "      <td>0</td>\n",
       "      <td>0</td>\n",
       "      <td>0</td>\n",
       "    </tr>\n",
       "    <tr>\n",
       "      <th>9526</th>\n",
       "      <td>0</td>\n",
       "      <td>0</td>\n",
       "      <td>0</td>\n",
       "      <td>0</td>\n",
       "      <td>0</td>\n",
       "      <td>0</td>\n",
       "      <td>0</td>\n",
       "      <td>0</td>\n",
       "      <td>0</td>\n",
       "      <td>0</td>\n",
       "      <td>...</td>\n",
       "      <td>0</td>\n",
       "      <td>0</td>\n",
       "      <td>0</td>\n",
       "      <td>0</td>\n",
       "      <td>0</td>\n",
       "      <td>0</td>\n",
       "      <td>0</td>\n",
       "      <td>0</td>\n",
       "      <td>0</td>\n",
       "      <td>0</td>\n",
       "    </tr>\n",
       "    <tr>\n",
       "      <th>18035</th>\n",
       "      <td>0</td>\n",
       "      <td>0</td>\n",
       "      <td>0</td>\n",
       "      <td>0</td>\n",
       "      <td>0</td>\n",
       "      <td>0</td>\n",
       "      <td>0</td>\n",
       "      <td>0</td>\n",
       "      <td>0</td>\n",
       "      <td>0</td>\n",
       "      <td>...</td>\n",
       "      <td>0</td>\n",
       "      <td>0</td>\n",
       "      <td>0</td>\n",
       "      <td>0</td>\n",
       "      <td>0</td>\n",
       "      <td>0</td>\n",
       "      <td>0</td>\n",
       "      <td>0</td>\n",
       "      <td>0</td>\n",
       "      <td>0</td>\n",
       "    </tr>\n",
       "    <tr>\n",
       "      <th>1337</th>\n",
       "      <td>0</td>\n",
       "      <td>0</td>\n",
       "      <td>0</td>\n",
       "      <td>0</td>\n",
       "      <td>0</td>\n",
       "      <td>0</td>\n",
       "      <td>0</td>\n",
       "      <td>0</td>\n",
       "      <td>0</td>\n",
       "      <td>0</td>\n",
       "      <td>...</td>\n",
       "      <td>0</td>\n",
       "      <td>0</td>\n",
       "      <td>0</td>\n",
       "      <td>0</td>\n",
       "      <td>0</td>\n",
       "      <td>0</td>\n",
       "      <td>0</td>\n",
       "      <td>0</td>\n",
       "      <td>0</td>\n",
       "      <td>0</td>\n",
       "    </tr>\n",
       "    <tr>\n",
       "      <th>10289</th>\n",
       "      <td>0</td>\n",
       "      <td>0</td>\n",
       "      <td>0</td>\n",
       "      <td>0</td>\n",
       "      <td>0</td>\n",
       "      <td>0</td>\n",
       "      <td>0</td>\n",
       "      <td>0</td>\n",
       "      <td>0</td>\n",
       "      <td>0</td>\n",
       "      <td>...</td>\n",
       "      <td>0</td>\n",
       "      <td>0</td>\n",
       "      <td>0</td>\n",
       "      <td>0</td>\n",
       "      <td>0</td>\n",
       "      <td>0</td>\n",
       "      <td>0</td>\n",
       "      <td>0</td>\n",
       "      <td>0</td>\n",
       "      <td>0</td>\n",
       "    </tr>\n",
       "  </tbody>\n",
       "</table>\n",
       "<p>5 rows × 784 columns</p>\n",
       "</div>"
      ],
      "text/plain": [
       "       pixel0  pixel1  pixel2  pixel3  pixel4  pixel5  pixel6  pixel7  pixel8  \\\n",
       "38997       0       0       0       0       0       0       0       0       0   \n",
       "9526        0       0       0       0       0       0       0       0       0   \n",
       "18035       0       0       0       0       0       0       0       0       0   \n",
       "1337        0       0       0       0       0       0       0       0       0   \n",
       "10289       0       0       0       0       0       0       0       0       0   \n",
       "\n",
       "       pixel9    ...     pixel774  pixel775  pixel776  pixel777  pixel778  \\\n",
       "38997       0    ...            0         0         0         0         0   \n",
       "9526        0    ...            0         0         0         0         0   \n",
       "18035       0    ...            0         0         0         0         0   \n",
       "1337        0    ...            0         0         0         0         0   \n",
       "10289       0    ...            0         0         0         0         0   \n",
       "\n",
       "       pixel779  pixel780  pixel781  pixel782  pixel783  \n",
       "38997         0         0         0         0         0  \n",
       "9526          0         0         0         0         0  \n",
       "18035         0         0         0         0         0  \n",
       "1337          0         0         0         0         0  \n",
       "10289         0         0         0         0         0  \n",
       "\n",
       "[5 rows x 784 columns]"
      ]
     },
     "execution_count": 12,
     "metadata": {},
     "output_type": "execute_result"
    }
   ],
   "source": [
    "X_train.head()"
   ]
  },
  {
   "cell_type": "code",
   "execution_count": 13,
   "metadata": {
    "ExecuteTime": {
     "end_time": "2019-04-13T11:24:34.446092Z",
     "start_time": "2019-04-13T11:24:34.356332Z"
    }
   },
   "outputs": [],
   "source": [
    "# resetting the index from 0 to 5249 for easy access using iloc\n",
    "X_train.reset_index(drop=True, inplace=True)\n",
    "y_train.reset_index(drop=True, inplace=True)"
   ]
  },
  {
   "cell_type": "code",
   "execution_count": 14,
   "metadata": {
    "ExecuteTime": {
     "end_time": "2019-04-13T11:24:34.617633Z",
     "start_time": "2019-04-13T11:24:34.449084Z"
    }
   },
   "outputs": [
    {
     "name": "stdout",
     "output_type": "stream",
     "text": [
      "This is an image of 4\n"
     ]
    },
    {
     "data": {
      "image/png": "[encoded data removed]",
      "text/plain": [
       "<Figure size 432x288 with 1 Axes>"
      ]
     },
     "metadata": {
      "needs_background": "light"
     },
     "output_type": "display_data"
    }
   ],
   "source": [
    "# Lets look at first digit image. Since we know that image size is 28 X 28\n",
    "plt.imshow(X_train.iloc[75,:].values.reshape(28,28))\n",
    "print(\"This is an image of {}\".format(y_train[75]))"
   ]
  },
  {
   "cell_type": "markdown",
   "metadata": {},
   "source": [
    "Although this is a 4 but it is highly slanted. On reading through various MNIST solutions I know that some preprocessing that removes this skew will enhance the dataset and hence the model."
   ]
  },
  {
   "cell_type": "markdown",
   "metadata": {},
   "source": [
    "https://en.wikipedia.org/wiki/Image_moment"
   ]
  },
  {
   "cell_type": "markdown",
   "metadata": {},
   "source": [
    "Referring to the above Wikipedia link which gives information about getting orientation of an image from its moments was really helpful."
   ]
  },
  {
   "cell_type": "markdown",
   "metadata": {},
   "source": [
    "#### Deskewing the dataset"
   ]
  },
  {
   "cell_type": "code",
   "execution_count": 15,
   "metadata": {
    "ExecuteTime": {
     "end_time": "2019-04-13T11:24:34.625611Z",
     "start_time": "2019-04-13T11:24:34.618629Z"
    }
   },
   "outputs": [],
   "source": [
    "from numpy import sum\n",
    "from scipy.ndimage import interpolation\n",
    "def deskew(image):\n",
    "    \n",
    "    image = image.reshape(28,28)\n",
    "    x, y = np.mgrid[:image.shape[0],:image.shape[1]]\n",
    "    totalImage = sum(image)\n",
    "    \n",
    "    m0 = sum(x*image)/totalImage\n",
    "    m1 = sum(y*image)/totalImage\n",
    "\n",
    "    m00 = sum((x-m0)**2*image)/totalImage\n",
    "    m11 = sum((y-m1)**2*image)/totalImage\n",
    "    m01 = sum((x-m0)*(y-m1)*image)/totalImage\n",
    "    mu_vec = np.array([m0,m1])\n",
    "    \n",
    "    cov_mat = np.array([[m00,m01],[m01,m11]])\n",
    "    \n",
    "    alpha = cov_mat[0,1]/cov_mat[0,0]\n",
    "    affine = np.array([[1,0],[alpha,1]])\n",
    "    center = np.array(image.shape)/2\n",
    "    offset = mu_vec-np.dot(affine,center)\n",
    "    \n",
    "    return interpolation.affine_transform(image,affine,offset=offset)"
   ]
  },
  {
   "cell_type": "code",
   "execution_count": 16,
   "metadata": {
    "ExecuteTime": {
     "end_time": "2019-04-13T11:24:34.696421Z",
     "start_time": "2019-04-13T11:24:34.626608Z"
    }
   },
   "outputs": [],
   "source": [
    "def deskew_now(X):\n",
    "    deskewed = []\n",
    "    for i in range(len(X)):\n",
    "        deskewed.append(deskew(X[i,:]).flatten())\n",
    "    return np.array(deskewed)"
   ]
  },
  {
   "cell_type": "code",
   "execution_count": 17,
   "metadata": {
    "ExecuteTime": {
     "end_time": "2019-04-13T11:24:48.739879Z",
     "start_time": "2019-04-13T11:24:34.697418Z"
    }
   },
   "outputs": [],
   "source": [
    "# This took around 12 seconds to run on my PC\n",
    "X_train = deskew_now(X_train.values)\n",
    "X_test = deskew_now(X_test.values)\n",
    "X_valid = deskew_now(X_valid.values)"
   ]
  },
  {
   "cell_type": "code",
   "execution_count": 18,
   "metadata": {
    "ExecuteTime": {
     "end_time": "2019-04-13T11:24:48.743839Z",
     "start_time": "2019-04-13T11:24:48.740874Z"
    }
   },
   "outputs": [],
   "source": [
    "def HOG_describe(image):\n",
    "    # compute HOG for the image\n",
    "    hist = feature.hog(image, orientations = 9,\n",
    "        pixels_per_cell = (8, 8),\n",
    "        cells_per_block = (3, 3)\n",
    "        )\n",
    "    return hist"
   ]
  },
  {
   "cell_type": "code",
   "execution_count": 19,
   "metadata": {
    "ExecuteTime": {
     "end_time": "2019-04-13T11:24:48.884463Z",
     "start_time": "2019-04-13T11:24:48.744837Z"
    }
   },
   "outputs": [],
   "source": [
    "# Saving a copy of original pixel features as we will convert these to Histogram of Oriented Gradients (HOG) features.\n",
    "X_train_raw = X_train.copy()\n",
    "X_test_raw = X_test.copy()\n",
    "X_valid_raw = X_valid.copy()"
   ]
  },
  {
   "cell_type": "code",
   "execution_count": 20,
   "metadata": {
    "ExecuteTime": {
     "end_time": "2019-04-13T11:24:48.891444Z",
     "start_time": "2019-04-13T11:24:48.885460Z"
    }
   },
   "outputs": [
    {
     "data": {
      "text/plain": [
       "(5250, 784)"
      ]
     },
     "execution_count": 20,
     "metadata": {},
     "output_type": "execute_result"
    }
   ],
   "source": [
    "# Currently the shape is\n",
    "X_train.shape"
   ]
  },
  {
   "cell_type": "code",
   "execution_count": 21,
   "metadata": {
    "ExecuteTime": {
     "end_time": "2019-04-13T11:24:49.024089Z",
     "start_time": "2019-04-13T11:24:48.892442Z"
    }
   },
   "outputs": [],
   "source": [
    "def HOG_now(A):\n",
    "    temp = []\n",
    "    for i in range(A.shape[0]):\n",
    "        hist = HOG_describe(A[i].reshape(28,28))\n",
    "        temp.append(hist)\n",
    "    return np.array(temp)"
   ]
  },
  {
   "cell_type": "code",
   "execution_count": 22,
   "metadata": {
    "ExecuteTime": {
     "end_time": "2019-04-13T11:24:56.437283Z",
     "start_time": "2019-04-13T11:24:49.025086Z"
    }
   },
   "outputs": [],
   "source": [
    "X_train = HOG_now(X_train)\n",
    "X_test = HOG_now(X_test)\n",
    "X_valid = HOG_now(X_valid)"
   ]
  },
  {
   "cell_type": "code",
   "execution_count": 23,
   "metadata": {
    "ExecuteTime": {
     "end_time": "2019-04-13T11:24:56.442243Z",
     "start_time": "2019-04-13T11:24:56.438254Z"
    }
   },
   "outputs": [
    {
     "data": {
      "text/plain": [
       "(5250, 81)"
      ]
     },
     "execution_count": 23,
     "metadata": {},
     "output_type": "execute_result"
    }
   ],
   "source": [
    "X_train.shape"
   ]
  },
  {
   "cell_type": "code",
   "execution_count": 24,
   "metadata": {
    "ExecuteTime": {
     "end_time": "2019-04-13T11:24:56.509064Z",
     "start_time": "2019-04-13T11:24:56.443241Z"
    }
   },
   "outputs": [],
   "source": [
    "from sklearn.pipeline import Pipeline"
   ]
  },
  {
   "cell_type": "code",
   "execution_count": 25,
   "metadata": {
    "ExecuteTime": {
     "end_time": "2019-04-13T11:24:56.583864Z",
     "start_time": "2019-04-13T11:24:56.510061Z"
    }
   },
   "outputs": [],
   "source": [
    "''' Creating a pipeline for easy model building and adopting best practices.\n",
    "I have used MinMaxScaler as it will scale the pixel value between 0 and 1.\n",
    "We could have simply divided by 255 but after deskewing \n",
    "we have less 0 and more than 255 avlues also. Using polynomial kernel here'''\n",
    "\n",
    "steps = [('scaler', MinMaxScaler()), ('SVM', SVC(kernel='poly'))]\n",
    "pipeline = Pipeline(steps)"
   ]
  },
  {
   "cell_type": "code",
   "execution_count": 26,
   "metadata": {
    "ExecuteTime": {
     "end_time": "2019-04-13T11:24:56.657688Z",
     "start_time": "2019-04-13T11:24:56.584861Z"
    }
   },
   "outputs": [],
   "source": [
    "# Defining parameters to optimize here.\n",
    "parameters = {'SVM__C':[0.001, 0.1, 1, 20], 'SVM__gamma':[10,1,0.1,0.01]}"
   ]
  },
  {
   "cell_type": "code",
   "execution_count": 27,
   "metadata": {
    "ExecuteTime": {
     "end_time": "2019-04-13T11:24:56.746429Z",
     "start_time": "2019-04-13T11:24:56.658664Z"
    }
   },
   "outputs": [],
   "source": [
    "# Defininf GridSearchCV object with required param & CV=5\n",
    "grid = GridSearchCV(pipeline, param_grid=parameters, cv=5, verbose=10, n_jobs=-1)"
   ]
  },
  {
   "cell_type": "code",
   "execution_count": 28,
   "metadata": {
    "ExecuteTime": {
     "end_time": "2019-04-13T11:25:40.596115Z",
     "start_time": "2019-04-13T11:24:56.747426Z"
    }
   },
   "outputs": [
    {
     "name": "stdout",
     "output_type": "stream",
     "text": [
      "Fitting 5 folds for each of 16 candidates, totalling 80 fits\n"
     ]
    },
    {
     "name": "stderr",
     "output_type": "stream",
     "text": [
      "[Parallel(n_jobs=-1)]: Using backend LokyBackend with 8 concurrent workers.\n",
      "[Parallel(n_jobs=-1)]: Done   2 tasks      | elapsed:    2.7s\n",
      "[Parallel(n_jobs=-1)]: Done   9 tasks      | elapsed:    8.7s\n",
      "[Parallel(n_jobs=-1)]: Done  16 tasks      | elapsed:   14.2s\n",
      "[Parallel(n_jobs=-1)]: Done  25 tasks      | elapsed:   16.2s\n",
      "[Parallel(n_jobs=-1)]: Done  34 tasks      | elapsed:   23.8s\n",
      "[Parallel(n_jobs=-1)]: Done  45 tasks      | elapsed:   26.4s\n",
      "[Parallel(n_jobs=-1)]: Done  56 tasks      | elapsed:   34.0s\n",
      "[Parallel(n_jobs=-1)]: Done  74 out of  80 | elapsed:   38.6s remaining:    3.0s\n",
      "[Parallel(n_jobs=-1)]: Done  80 out of  80 | elapsed:   43.2s finished\n"
     ]
    },
    {
     "data": {
      "text/plain": [
       "GridSearchCV(cv=5, error_score='raise-deprecating',\n",
       "       estimator=Pipeline(memory=None,\n",
       "     steps=[('scaler', MinMaxScaler(copy=True, feature_range=(0, 1))), ('SVM', SVC(C=1.0, cache_size=200, class_weight=None, coef0=0.0,\n",
       "  decision_function_shape='ovr', degree=3, gamma='auto_deprecated',\n",
       "  kernel='poly', max_iter=-1, probability=False, random_state=None,\n",
       "  shrinking=True, tol=0.001, verbose=False))]),\n",
       "       fit_params=None, iid='warn', n_jobs=-1,\n",
       "       param_grid={'SVM__C': [0.001, 0.1, 1, 20], 'SVM__gamma': [10, 1, 0.1, 0.01]},\n",
       "       pre_dispatch='2*n_jobs', refit=True, return_train_score='warn',\n",
       "       scoring=None, verbose=10)"
      ]
     },
     "execution_count": 28,
     "metadata": {},
     "output_type": "execute_result"
    }
   ],
   "source": [
    "# Actually fitting the model here\n",
    "grid.fit(X_train, y_train)"
   ]
  },
  {
   "cell_type": "code",
   "execution_count": 29,
   "metadata": {
    "ExecuteTime": {
     "end_time": "2019-04-13T11:25:40.600103Z",
     "start_time": "2019-04-13T11:25:40.597112Z"
    }
   },
   "outputs": [],
   "source": [
    "scale = MinMaxScaler()"
   ]
  },
  {
   "cell_type": "code",
   "execution_count": 30,
   "metadata": {
    "ExecuteTime": {
     "end_time": "2019-04-13T11:25:40.672910Z",
     "start_time": "2019-04-13T11:25:40.601101Z"
    }
   },
   "outputs": [
    {
     "data": {
      "text/plain": [
       "{'SVM__C': 0.1, 'SVM__gamma': 10}"
      ]
     },
     "execution_count": 30,
     "metadata": {},
     "output_type": "execute_result"
    }
   ],
   "source": [
    "# We have got the best params here\n",
    "grid.best_params_"
   ]
  },
  {
   "cell_type": "code",
   "execution_count": 31,
   "metadata": {
    "ExecuteTime": {
     "end_time": "2019-04-13T11:25:40.743719Z",
     "start_time": "2019-04-13T11:25:40.673908Z"
    }
   },
   "outputs": [],
   "source": [
    "# Lets build a model using all the data and using these best_params\n",
    "# Default polynomial degree of 3 is used here.\n",
    "\n",
    "X_train = scale.fit_transform(X_train)\n",
    "model = SVC(C=0.1, \n",
    "             kernel='poly', \n",
    "             gamma=10, \n",
    "             random_state=101)"
   ]
  },
  {
   "cell_type": "code",
   "execution_count": 32,
   "metadata": {
    "ExecuteTime": {
     "end_time": "2019-04-13T11:25:41.221441Z",
     "start_time": "2019-04-13T11:25:40.744717Z"
    }
   },
   "outputs": [
    {
     "data": {
      "text/plain": [
       "SVC(C=0.1, cache_size=200, class_weight=None, coef0=0.0,\n",
       "  decision_function_shape='ovr', degree=3, gamma=10, kernel='poly',\n",
       "  max_iter=-1, probability=False, random_state=101, shrinking=True,\n",
       "  tol=0.001, verbose=False)"
      ]
     },
     "execution_count": 32,
     "metadata": {},
     "output_type": "execute_result"
    }
   ],
   "source": [
    "model.fit(X_train, y_train)"
   ]
  },
  {
   "cell_type": "code",
   "execution_count": 33,
   "metadata": {
    "ExecuteTime": {
     "end_time": "2019-04-13T11:25:45.140983Z",
     "start_time": "2019-04-13T11:25:41.222439Z"
    }
   },
   "outputs": [
    {
     "data": {
      "text/plain": [
       "0.942530612244898"
      ]
     },
     "execution_count": 33,
     "metadata": {},
     "output_type": "execute_result"
    }
   ],
   "source": [
    "X_valid = scale.fit_transform(X_valid)\n",
    "model.score(X_valid,y_valid)"
   ]
  },
  {
   "cell_type": "code",
   "execution_count": 34,
   "metadata": {
    "ExecuteTime": {
     "end_time": "2019-04-13T11:25:48.133947Z",
     "start_time": "2019-04-13T11:25:45.141954Z"
    }
   },
   "outputs": [],
   "source": [
    "X_test = scale.fit_transform(X_test)\n",
    "y_pred = model.predict(X_test)"
   ]
  },
  {
   "cell_type": "code",
   "execution_count": 35,
   "metadata": {
    "ExecuteTime": {
     "end_time": "2019-04-13T11:25:48.155889Z",
     "start_time": "2019-04-13T11:25:48.134945Z"
    }
   },
   "outputs": [],
   "source": [
    "submission = pd.read_csv('sample_submission.csv')"
   ]
  },
  {
   "cell_type": "code",
   "execution_count": 36,
   "metadata": {
    "ExecuteTime": {
     "end_time": "2019-04-13T11:25:48.214755Z",
     "start_time": "2019-04-13T11:25:48.156886Z"
    }
   },
   "outputs": [],
   "source": [
    "submission['Label'] = y_pred"
   ]
  },
  {
   "cell_type": "code",
   "execution_count": 37,
   "metadata": {
    "ExecuteTime": {
     "end_time": "2019-04-13T11:25:48.350397Z",
     "start_time": "2019-04-13T11:25:48.215729Z"
    }
   },
   "outputs": [],
   "source": [
    "submission.to_csv('submission.csv',index=False)"
   ]
  }
 ],
 "metadata": {
  "kernelspec": {
   "display_name": "Python 3",
   "language": "python",
   "name": "python3"
  },
  "language_info": {
   "codemirror_mode": {
    "name": "ipython",
    "version": 3
   },
   "file_extension": ".py",
   "mimetype": "text/x-python",
   "name": "python",
   "nbconvert_exporter": "python",
   "pygments_lexer": "ipython3",
   "version": "3.7.1"
  },
  "toc": {
   "base_numbering": 1,
   "nav_menu": {},
   "number_sections": true,
   "sideBar": true,
   "skip_h1_title": false,
   "title_cell": "Table of Contents",
   "title_sidebar": "Contents",
   "toc_cell": false,
   "toc_position": {},
   "toc_section_display": true,
   "toc_window_display": false
  }
 },
 "nbformat": 4,
 "nbformat_minor": 2
}
